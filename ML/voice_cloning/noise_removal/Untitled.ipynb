{
 "cells": [
  {
   "cell_type": "code",
   "execution_count": 33,
   "id": "cdbf8902",
   "metadata": {},
   "outputs": [],
   "source": [
    "import librosa"
   ]
  },
  {
   "cell_type": "code",
   "execution_count": 55,
   "id": "e2dcae60",
   "metadata": {},
   "outputs": [],
   "source": [
    "import noisereduce as nr\n",
    "# load data\n",
    "data, rate = librosa.load(\"./noise_sound/sound1.wav\")\n",
    "# select section of data that is noise"
   ]
  },
  {
   "cell_type": "code",
   "execution_count": 56,
   "id": "95c29c69",
   "metadata": {},
   "outputs": [],
   "source": [
    "noisy_part = data\n",
    "# perform noise reduction\n",
    "reduced_noise = nr.reduce_noise(audio_clip=data, noise_clip=noisy_part, verbose=False)"
   ]
  },
  {
   "cell_type": "code",
   "execution_count": 57,
   "id": "44bc4938",
   "metadata": {},
   "outputs": [],
   "source": [
    "import soundfile as sf"
   ]
  },
  {
   "cell_type": "code",
   "execution_count": 58,
   "id": "58d82f1c",
   "metadata": {},
   "outputs": [],
   "source": [
    "sf.write(\"./output_sound/sound1.wav\", reduced_noise,rate)"
   ]
  },
  {
   "cell_type": "code",
   "execution_count": 40,
   "id": "cac36d1b",
   "metadata": {},
   "outputs": [
    {
     "data": {
      "text/plain": [
       "array([ 0.00930946, -0.00905035,  0.01181081, ..., -0.00967753,\n",
       "        0.00111725,  0.00200156])"
      ]
     },
     "execution_count": 40,
     "metadata": {},
     "output_type": "execute_result"
    }
   ],
   "source": [
    "reduced_noise"
   ]
  },
  {
   "cell_type": "code",
   "execution_count": null,
   "id": "2e4aa09e",
   "metadata": {},
   "outputs": [],
   "source": []
  }
 ],
 "metadata": {
  "kernelspec": {
   "display_name": "Python 3",
   "language": "python",
   "name": "python3"
  },
  "language_info": {
   "codemirror_mode": {
    "name": "ipython",
    "version": 3
   },
   "file_extension": ".py",
   "mimetype": "text/x-python",
   "name": "python",
   "nbconvert_exporter": "python",
   "pygments_lexer": "ipython3",
   "version": "3.8.5"
  }
 },
 "nbformat": 4,
 "nbformat_minor": 5
}
